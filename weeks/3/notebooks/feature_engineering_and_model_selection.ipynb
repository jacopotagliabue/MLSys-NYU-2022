{
 "cells": [
  {
   "cell_type": "code",
   "execution_count": null,
   "id": "eb62860f-5274-40a4-ad0c-8016ca344584",
   "metadata": {},
   "outputs": [],
   "source": [
    "import matplotlib.pyplot as plt\n",
    "import numpy as np\n",
    "import pandas as pd\n",
    "\n",
    "%config InlineBackend.figure_format = 'retina'"
   ]
  },
  {
   "cell_type": "code",
   "execution_count": null,
   "id": "92ba4034-4597-49cd-8470-4e8ea9bd00ed",
   "metadata": {},
   "outputs": [],
   "source": [
    "plt.rcParams[\"axes.spines.right\"] = False\n",
    "plt.rcParams[\"axes.spines.top\"] = False"
   ]
  },
  {
   "cell_type": "code",
   "execution_count": null,
   "id": "af2449db-20ea-4c20-96bc-020e0393be6b",
   "metadata": {},
   "outputs": [],
   "source": [
    "RANDOM_SEED = 666"
   ]
  },
  {
   "cell_type": "code",
   "execution_count": null,
   "id": "fc405de4-1d5c-4c1b-a304-7b1dde4cbd29",
   "metadata": {},
   "outputs": [],
   "source": [
    "housing_data = pd.read_csv(\"../../2/data/train.csv\")\n",
    "housing_data.head()"
   ]
  },
  {
   "cell_type": "markdown",
   "id": "fcc7caa7-2266-4d7f-b140-ed55fefa2c2d",
   "metadata": {},
   "source": [
    "# Feature Engineering\n",
    "\n",
    "## Standardization / Normalization"
   ]
  },
  {
   "cell_type": "code",
   "execution_count": null,
   "id": "8258ebf2-007d-4cc7-88e0-9ced7f741591",
   "metadata": {},
   "outputs": [],
   "source": [
    "X = housing_data[[\"1stFlrSF\"]]"
   ]
  },
  {
   "cell_type": "code",
   "execution_count": null,
   "id": "ad3ac8c9-db1a-4a6f-bdb1-5ed39ae28fd6",
   "metadata": {},
   "outputs": [],
   "source": [
    "fig, ax = plt.subplots()\n",
    "ax.hist(X, bins=101)\n",
    "ax.set_title(\"1st Floor Square Footage Histogram\")\n",
    "ax.set_ylabel(\"Counts\")\n",
    "None"
   ]
  },
  {
   "cell_type": "code",
   "execution_count": null,
   "id": "aa6866d2-c5a3-4d9d-b54d-7c034ad956d4",
   "metadata": {},
   "outputs": [],
   "source": [
    "from sklearn.preprocessing import StandardScaler"
   ]
  },
  {
   "cell_type": "code",
   "execution_count": null,
   "id": "94487d6b-20bc-48b3-bbdb-26f23d2063e1",
   "metadata": {},
   "outputs": [],
   "source": [
    "scaler = StandardScaler()\n",
    "scaler = scaler.fit(X)"
   ]
  },
  {
   "cell_type": "code",
   "execution_count": null,
   "id": "776705c0-255a-4863-a2c7-5c8318954f60",
   "metadata": {},
   "outputs": [],
   "source": [
    "print(f\"Mean = {scaler.mean_}, Variance = {scaler.var_}\")"
   ]
  },
  {
   "cell_type": "code",
   "execution_count": null,
   "id": "50096a8a-5157-4f77-8369-eeb32de6e236",
   "metadata": {},
   "outputs": [],
   "source": [
    "X_trans = scaler.transform(X)"
   ]
  },
  {
   "cell_type": "code",
   "execution_count": null,
   "id": "a1753908-c45b-4e80-b1ca-202a9341c681",
   "metadata": {},
   "outputs": [],
   "source": [
    "fig, ax = plt.subplots()\n",
    "ax.hist(X_trans, bins=101)\n",
    "ax.set_title(\"Normalized 1st Floor Square Footage Histogram\")\n",
    "ax.set_ylabel(\"Counts\")\n",
    "None"
   ]
  },
  {
   "cell_type": "markdown",
   "id": "77cba5ca-9e80-4c14-a109-28dc6667d113",
   "metadata": {},
   "source": [
    "### PowerTransformer for Gaussian-ifying Data"
   ]
  },
  {
   "cell_type": "code",
   "execution_count": null,
   "id": "882f7224-3858-4969-a096-1c59533e5905",
   "metadata": {},
   "outputs": [],
   "source": [
    "from sklearn.preprocessing import PowerTransformer"
   ]
  },
  {
   "cell_type": "code",
   "execution_count": null,
   "id": "88354be9-502e-4262-b103-344146ef4955",
   "metadata": {},
   "outputs": [],
   "source": [
    "scaler = PowerTransformer()\n",
    "scaler = scaler.fit(X)\n",
    "X_trans = scaler.transform(X)\n",
    "fig, ax = plt.subplots()\n",
    "ax.hist(X_trans, bins=101)\n",
    "ax.set_title(\"Power-Transformed 1st Floor Square Footage Histogram\")\n",
    "ax.set_ylabel(\"Counts\")\n",
    "None"
   ]
  },
  {
   "cell_type": "markdown",
   "id": "fadbfa04-da8e-45fd-8085-dc91ab4e16d4",
   "metadata": {},
   "source": [
    "# String Features\n",
    "\n",
    "## Ordinal Encoding\n",
    "\n",
    "```\n",
    "ExterCond: Evaluates the present condition of the material on the exterior\n",
    "\n",
    "       Ex\tExcellent\n",
    "       Gd\tGood\n",
    "       TA\tAverage/Typical\n",
    "       Fa\tFair\n",
    "       Po\tPoor\n",
    "```"
   ]
  },
  {
   "cell_type": "code",
   "execution_count": null,
   "id": "d002a955-d15d-4b5b-81d5-69ecc46fe62a",
   "metadata": {},
   "outputs": [],
   "source": [
    "X = housing_data[[\"ExterCond\"]]\n",
    "X"
   ]
  },
  {
   "cell_type": "code",
   "execution_count": null,
   "id": "12a51247-086c-4b53-be5a-5bdb7d40a535",
   "metadata": {},
   "outputs": [],
   "source": [
    "from sklearn.preprocessing import OrdinalEncoder"
   ]
  },
  {
   "cell_type": "code",
   "execution_count": null,
   "id": "71a45c14-dec4-45a0-b186-50ea3cfe6bc6",
   "metadata": {},
   "outputs": [],
   "source": [
    "categories = [\"Po\", \"Fa\", \"TA\", \"Gd\", \"Ex\"]\n",
    "ordinal_encoder = OrdinalEncoder(categories=[categories])"
   ]
  },
  {
   "cell_type": "code",
   "execution_count": null,
   "id": "d8e9b548-f126-4ba1-9aa7-e361bf041d01",
   "metadata": {},
   "outputs": [],
   "source": [
    "ordinal_encoder = ordinal_encoder.fit(X)"
   ]
  },
  {
   "cell_type": "code",
   "execution_count": null,
   "id": "7533aa97-0f1e-44d7-83a0-de2ee8ea5ddc",
   "metadata": {},
   "outputs": [],
   "source": [
    "ordinal_encoder.categories_"
   ]
  },
  {
   "cell_type": "code",
   "execution_count": null,
   "id": "a1d0ca84-c517-4788-b54f-0dbd7d853317",
   "metadata": {},
   "outputs": [],
   "source": [
    "X_trans = ordinal_encoder.transform(X)\n",
    "X_trans"
   ]
  },
  {
   "cell_type": "code",
   "execution_count": null,
   "id": "a3b981f4-eaa9-4c15-a072-1b1d09829b30",
   "metadata": {},
   "outputs": [],
   "source": [
    "ordinal_encoder.inverse_transform(X_trans)"
   ]
  },
  {
   "cell_type": "markdown",
   "id": "25ac0836-ab5e-44fc-9409-4ace43a74764",
   "metadata": {},
   "source": [
    "## One Hot Encoding\n",
    "\n",
    "```\n",
    "Foundation: Type of foundation\n",
    "\n",
    "       BrkTil\tBrick & Tile\n",
    "       CBlock\tCinder Block\n",
    "       PConc\tPoured Contrete\n",
    "       Slab\tSlab\n",
    "       Stone\tStone\n",
    "       Wood\tWood\n",
    "```"
   ]
  },
  {
   "cell_type": "code",
   "execution_count": null,
   "id": "c3351c01-1b11-4cb2-bd37-922103962d9f",
   "metadata": {},
   "outputs": [],
   "source": [
    "X = housing_data[[\"Foundation\"]]\n",
    "X"
   ]
  },
  {
   "cell_type": "code",
   "execution_count": null,
   "id": "2c2dc7fd-95b6-4148-8e97-2cca64c0a150",
   "metadata": {},
   "outputs": [],
   "source": [
    "from sklearn.preprocessing import OneHotEncoder"
   ]
  },
  {
   "cell_type": "code",
   "execution_count": null,
   "id": "bfb783d3-3b49-482a-acca-2503604cac74",
   "metadata": {},
   "outputs": [],
   "source": [
    "one_hot_encoder = OneHotEncoder(categories=\"auto\", sparse=False)\n",
    "X_trans = one_hot_encoder.fit_transform(X)\n",
    "X_trans"
   ]
  },
  {
   "cell_type": "code",
   "execution_count": null,
   "id": "a77fa959-2616-4241-9655-5f05caee9082",
   "metadata": {},
   "outputs": [],
   "source": [
    "one_hot_encoder.categories_"
   ]
  },
  {
   "cell_type": "code",
   "execution_count": null,
   "id": "04e486de-9d97-45a0-bd2d-e78e0642a457",
   "metadata": {},
   "outputs": [],
   "source": [
    "one_hot_encoder.inverse_transform(X_trans)"
   ]
  },
  {
   "cell_type": "markdown",
   "id": "bf5b88c0-32da-45ad-83a9-334b1e1e8946",
   "metadata": {},
   "source": [
    "You can also hack this in pandas"
   ]
  },
  {
   "cell_type": "code",
   "execution_count": null,
   "id": "f6d1b789-d66d-4eb7-98bc-ed50e9a9c67b",
   "metadata": {},
   "outputs": [],
   "source": [
    "pd.get_dummies(X)"
   ]
  },
  {
   "cell_type": "markdown",
   "id": "8fa33252-f701-496c-98a2-378fec6a7015",
   "metadata": {},
   "source": [
    "## Multiple Columns"
   ]
  },
  {
   "cell_type": "code",
   "execution_count": null,
   "id": "f13ef898-b492-4d70-aabc-5ac287ef88a3",
   "metadata": {},
   "outputs": [],
   "source": [
    "X = housing_data[[\"Foundation\", \"SaleCondition\", \"HouseStyle\"]]\n",
    "X"
   ]
  },
  {
   "cell_type": "code",
   "execution_count": null,
   "id": "82b51edb-8ce3-44bd-af87-93faef1237f8",
   "metadata": {},
   "outputs": [],
   "source": [
    "one_hot_encoder = OneHotEncoder(categories=\"auto\", sparse=False)\n",
    "X_trans = one_hot_encoder.fit_transform(X)\n",
    "X_trans"
   ]
  },
  {
   "cell_type": "code",
   "execution_count": null,
   "id": "70113b65-d919-49c4-a520-21c7753ccdea",
   "metadata": {},
   "outputs": [],
   "source": [
    "one_hot_encoder.categories_"
   ]
  },
  {
   "cell_type": "code",
   "execution_count": null,
   "id": "ebb4704a-1e59-40cd-bf33-dfd7426bad58",
   "metadata": {},
   "outputs": [],
   "source": [
    "one_hot_encoder.inverse_transform(one_hot_encoder.fit_transform(X_trans))"
   ]
  },
  {
   "cell_type": "markdown",
   "id": "63d3bf1f-6afc-4ece-a171-b76535c03d39",
   "metadata": {},
   "source": [
    "# Model Selection\n",
    "\n",
    "## Train/Test Split"
   ]
  },
  {
   "cell_type": "code",
   "execution_count": null,
   "id": "71f404f6-1802-4916-a5d6-4c69f71988fa",
   "metadata": {},
   "outputs": [],
   "source": [
    "print(f\"Full Dataset: {len(housing_data)} samples\")"
   ]
  },
  {
   "cell_type": "code",
   "execution_count": null,
   "id": "a0a104e6-ae3e-43d1-9670-de5c012965b4",
   "metadata": {},
   "outputs": [],
   "source": [
    "from sklearn.model_selection import train_test_split"
   ]
  },
  {
   "cell_type": "code",
   "execution_count": null,
   "id": "06ee9329-31c4-462b-a408-fda73c5c0b01",
   "metadata": {},
   "outputs": [],
   "source": [
    "TEST_SIZE = 0.30\n",
    "train, test = train_test_split(\n",
    "    housing_data, test_size=TEST_SIZE, random_state=RANDOM_SEED\n",
    ")"
   ]
  },
  {
   "cell_type": "code",
   "execution_count": null,
   "id": "d0f223b3-aa5b-410e-93fd-248d1a37a6a4",
   "metadata": {},
   "outputs": [],
   "source": [
    "print(f\"Train Dataset: {len(train):,} samples ({len(train) / len(housing_data):.0%})\")\n",
    "print(f\"Test Dataset: {len(test)} samples ({len(test) / len(housing_data):.0%})\")"
   ]
  },
  {
   "cell_type": "code",
   "execution_count": null,
   "id": "0780f0e3-4559-4b17-8faf-66ce7e474e4b",
   "metadata": {},
   "outputs": [],
   "source": [
    "from sklearn.linear_model import LinearRegression"
   ]
  },
  {
   "cell_type": "code",
   "execution_count": null,
   "id": "2cea9023-695b-4be2-ad67-b0c1c3ae27a4",
   "metadata": {},
   "outputs": [],
   "source": [
    "model = LinearRegression()"
   ]
  },
  {
   "cell_type": "code",
   "execution_count": null,
   "id": "25652671-0e7f-4372-af2e-87c585878ed2",
   "metadata": {},
   "outputs": [],
   "source": [
    "def get_X_y(housing_data):\n",
    "    target = \"SalePrice\"\n",
    "    features = []\n",
    "    for col in housing_data.columns:\n",
    "        if col == target:\n",
    "            continue\n",
    "        if housing_data[col].dtype in (np.dtype(\"int64\"), np.dtype(\"float64\")):\n",
    "            features.append(col)\n",
    "\n",
    "    X = housing_data[features].copy()\n",
    "    y = housing_data[target].copy()\n",
    "    return X, y"
   ]
  },
  {
   "cell_type": "code",
   "execution_count": null,
   "id": "f532e805-3918-4297-afee-5ccaffa788f2",
   "metadata": {},
   "outputs": [],
   "source": [
    "X_train, y_train = get_X_y(train)"
   ]
  },
  {
   "cell_type": "code",
   "execution_count": null,
   "id": "9afbc701-b112-4519-a318-2db192afc5db",
   "metadata": {},
   "outputs": [],
   "source": [
    "model.fit(X_train, y_train)"
   ]
  },
  {
   "cell_type": "code",
   "execution_count": null,
   "id": "c26d4221-33ab-415f-a5f2-48e3f9feb9b5",
   "metadata": {},
   "outputs": [],
   "source": [
    "from sklearn.impute import SimpleImputer"
   ]
  },
  {
   "cell_type": "code",
   "execution_count": null,
   "id": "6c37dfcf-7e31-4d51-b008-2d084f833425",
   "metadata": {},
   "outputs": [],
   "source": [
    "imputer = SimpleImputer()\n",
    "X_train_trans = imputer.fit_transform(X_train)"
   ]
  },
  {
   "cell_type": "code",
   "execution_count": null,
   "id": "cbdba418-709c-4b0c-b2db-4ddf29728c1f",
   "metadata": {},
   "outputs": [],
   "source": [
    "model.fit(X_train_trans, y_train)"
   ]
  },
  {
   "cell_type": "code",
   "execution_count": null,
   "id": "a9a28860-af61-4967-af76-06787fef8d72",
   "metadata": {},
   "outputs": [],
   "source": [
    "from sklearn.metrics import r2_score"
   ]
  },
  {
   "cell_type": "code",
   "execution_count": null,
   "id": "39a8a550-e1e9-4168-ba90-04ecd75cf20c",
   "metadata": {},
   "outputs": [],
   "source": [
    "y_train_pred = model.predict(X_train_trans)\n",
    "r2_train = r2_score(y_train, y_train_pred)\n",
    "print(f\"Training R^2 = {r2_train:.3}\")"
   ]
  },
  {
   "cell_type": "code",
   "execution_count": null,
   "id": "81998928-d5f5-4409-aede-2af302e436fa",
   "metadata": {},
   "outputs": [],
   "source": [
    "X_test, y_test = get_X_y(test)"
   ]
  },
  {
   "cell_type": "code",
   "execution_count": null,
   "id": "43af4538-0f09-464a-8abb-805375bc5eaf",
   "metadata": {},
   "outputs": [],
   "source": [
    "y_test_pred = model.predict(X_test)"
   ]
  },
  {
   "cell_type": "code",
   "execution_count": null,
   "id": "a0f7211d-3066-4cff-8b48-40230d76779a",
   "metadata": {},
   "outputs": [],
   "source": [
    "X_test_trans = imputer.transform(X_test)"
   ]
  },
  {
   "cell_type": "code",
   "execution_count": null,
   "id": "cc1fac60-cd23-48bc-a109-b63048aabec2",
   "metadata": {},
   "outputs": [],
   "source": [
    "y_test_pred = model.predict(X_test_trans)\n",
    "r2_test = r2_score(y_test, y_test_pred)\n",
    "print(f\"Test R^2 = {r2_test:.3}\")"
   ]
  },
  {
   "cell_type": "markdown",
   "id": "d294bfd0-c9fb-40d8-943b-cfdb33d68e35",
   "metadata": {},
   "source": [
    "## Regularization"
   ]
  },
  {
   "cell_type": "code",
   "execution_count": null,
   "id": "deef10b9-be64-4426-8ba6-6d1b58e80350",
   "metadata": {},
   "outputs": [],
   "source": [
    "from sklearn.linear_model import Ridge"
   ]
  },
  {
   "cell_type": "code",
   "execution_count": null,
   "id": "c1ce87f8-c998-41db-9ef0-25c032162e39",
   "metadata": {},
   "outputs": [],
   "source": [
    "def fit_and_evaluate_model(model, train, test):\n",
    "    X_train, y_train = get_X_y(train)\n",
    "    X_test, y_test = get_X_y(test)\n",
    "\n",
    "    imputer = SimpleImputer()\n",
    "    X_train_trans = imputer.fit_transform(X_train)\n",
    "    model.fit(X_train_trans, y_train)\n",
    "\n",
    "    y_train_pred = model.predict(X_train_trans)\n",
    "    y_test_pred = model.predict(imputer.transform(X_test))\n",
    "\n",
    "    return r2_score(y_train, y_train_pred), r2_score(y_test, y_test_pred)"
   ]
  },
  {
   "cell_type": "code",
   "execution_count": null,
   "id": "e600ecc6-e6f8-4020-b66a-55735ad682a1",
   "metadata": {},
   "outputs": [],
   "source": [
    "r2_train, r2_test = fit_and_evaluate_model(\n",
    "    Ridge(alpha=1_000, random_state=RANDOM_SEED), train, test\n",
    ")"
   ]
  },
  {
   "cell_type": "code",
   "execution_count": null,
   "id": "08620502-0ea7-454a-8970-cc158934eadd",
   "metadata": {},
   "outputs": [],
   "source": [
    "print(f\"Train R^2 = {r2_train:.3}\")\n",
    "print(f\"Test R^2 = {r2_test:.3}\")"
   ]
  },
  {
   "cell_type": "code",
   "execution_count": null,
   "id": "5316f9f3-79af-4341-88e6-d3718f6fd59d",
   "metadata": {},
   "outputs": [],
   "source": [
    "def fit_and_evaluate_model_with_scaling(model, train, test):\n",
    "    X_train, y_train = get_X_y(train)\n",
    "    X_test, y_test = get_X_y(test)\n",
    "\n",
    "    # Let's also scale the data first!\n",
    "    scaler = StandardScaler()\n",
    "    X_train_trans = scaler.fit_transform(X_train)\n",
    "\n",
    "    imputer = SimpleImputer()\n",
    "    X_train_trans = imputer.fit_transform(X_train_trans)\n",
    "\n",
    "    model.fit(X_train_trans, y_train)\n",
    "\n",
    "    y_train_pred = model.predict(X_train_trans)\n",
    "    y_test_pred = model.predict(imputer.transform(scaler.transform(X_test)))\n",
    "\n",
    "    return r2_score(y_train, y_train_pred), r2_score(y_test, y_test_pred)"
   ]
  },
  {
   "cell_type": "code",
   "execution_count": null,
   "id": "6ac690c3-f6bb-42c5-a4cc-e1458187e9ff",
   "metadata": {},
   "outputs": [],
   "source": [
    "r2_train, r2_test = fit_and_evaluate_model_with_scaling(\n",
    "    Ridge(alpha=1_000, random_state=RANDOM_SEED), train, test\n",
    ")\n",
    "print(f\"Train R^2 = {r2_train:.3}\")\n",
    "print(f\"Test R^2 = {r2_test:.3}\")"
   ]
  },
  {
   "cell_type": "markdown",
   "id": "5eb28117-46f2-4999-8dcc-ad644d9b7bbd",
   "metadata": {},
   "source": [
    "## Cross Validation"
   ]
  },
  {
   "cell_type": "code",
   "execution_count": null,
   "id": "282e2ef8-6254-4f02-9f75-c44f69088c75",
   "metadata": {},
   "outputs": [],
   "source": [
    "from sklearn.model_selection import KFold"
   ]
  },
  {
   "cell_type": "code",
   "execution_count": null,
   "id": "6b20b15c-5f57-4522-92cc-4700046ece63",
   "metadata": {},
   "outputs": [],
   "source": [
    "splitter = KFold(n_splits=5, shuffle=True, random_state=RANDOM_SEED)"
   ]
  },
  {
   "cell_type": "code",
   "execution_count": null,
   "id": "0339ef25-a10e-4486-9bea-b02a3dec900c",
   "metadata": {},
   "outputs": [],
   "source": [
    "fold = 1\n",
    "for train_index, val_index in splitter.split(train):\n",
    "    print(f\"Fold {fold}:\")\n",
    "    print(\n",
    "        f\"\\tTrain Dataset: {len(train_index):,} samples ({len(train_index) / len(train):.0%})\"\n",
    "    )\n",
    "    print(\n",
    "        f\"\\tVal Dataset: {len(val_index)} samples ({len(val_index) / len(train):.0%})\"\n",
    "    )\n",
    "    fold += 1"
   ]
  },
  {
   "cell_type": "code",
   "execution_count": null,
   "id": "ede29f4c-bb33-4b57-a999-955b2cad93ef",
   "metadata": {},
   "outputs": [],
   "source": [
    "print(val_index)"
   ]
  },
  {
   "cell_type": "code",
   "execution_count": null,
   "id": "93b1a7a1-c485-417c-9cfd-381dff1cb23e",
   "metadata": {},
   "outputs": [],
   "source": [
    "r2_trains = []\n",
    "r2_vals = []\n",
    "fold = 1\n",
    "for train_index, val_index in splitter.split(train):\n",
    "    r2_train, r2_val = fit_and_evaluate_model_with_scaling(\n",
    "        Ridge(alpha=1_000, random_state=RANDOM_SEED),\n",
    "        train.iloc[train_index],\n",
    "        train.iloc[val_index],\n",
    "    )\n",
    "\n",
    "    r2_trains.append(r2_train)\n",
    "    r2_vals.append(r2_val)\n",
    "\n",
    "    fold += 1"
   ]
  },
  {
   "cell_type": "code",
   "execution_count": null,
   "id": "68f3487f-4c69-4576-8c21-17b5c63019a7",
   "metadata": {},
   "outputs": [],
   "source": [
    "fig, ax = plt.subplots()\n",
    "ax.plot(range(1, 6), r2_trains, \"o--\", label=\"Training\")\n",
    "ax.plot(range(1, 6), r2_vals, \"o--\", label=\"Validation\")\n",
    "ax.legend(title=\"Dataset\", bbox_to_anchor=(1, 1))\n",
    "ax.set_xlabel(\"Fold\")\n",
    "ax.set_title(\"K-Fold $R^{2}$\")\n",
    "ax.set_ylim((0, ax.get_ylim()[1]))\n",
    "None"
   ]
  },
  {
   "cell_type": "markdown",
   "id": "6971bc20-1cef-415d-a68f-932c3c20e208",
   "metadata": {},
   "source": [
    "## Doing a Hyperparameter Search"
   ]
  },
  {
   "cell_type": "code",
   "execution_count": null,
   "id": "d734d12a-9df5-49df-88a8-54eaf25925d9",
   "metadata": {},
   "outputs": [],
   "source": [
    "alpha_values = np.logspace(-1, 6, 8)\n",
    "print(alpha_values)"
   ]
  },
  {
   "cell_type": "code",
   "execution_count": null,
   "id": "1fb34b62-b99a-43f3-b43c-295e1b35c9db",
   "metadata": {},
   "outputs": [],
   "source": [
    "avg_r2_trains = []\n",
    "avg_r2_vals = []\n",
    "for alpha in alpha_values:\n",
    "    r2_trains = []\n",
    "    r2_vals = []\n",
    "    fold = 1\n",
    "    for train_index, val_index in splitter.split(train):\n",
    "        r2_train, r2_val = fit_and_evaluate_model_with_scaling(\n",
    "            Ridge(alpha=alpha, random_state=RANDOM_SEED),\n",
    "            train.iloc[train_index],\n",
    "            train.iloc[val_index],\n",
    "        )\n",
    "\n",
    "        r2_trains.append(r2_train)\n",
    "        r2_vals.append(r2_val)\n",
    "\n",
    "        fold += 1\n",
    "    avg_r2_trains.append(np.mean(r2_trains))\n",
    "    avg_r2_vals.append(np.mean(r2_vals))"
   ]
  },
  {
   "cell_type": "code",
   "execution_count": null,
   "id": "65273012-d70f-4139-a46f-37500a899ca3",
   "metadata": {},
   "outputs": [],
   "source": [
    "fig, ax = plt.subplots()\n",
    "ax.plot(alpha_values, avg_r2_trains, \"o--\", label=\"Training\")\n",
    "ax.plot(alpha_values, avg_r2_vals, \"o--\", label=\"Validation\")\n",
    "ax.legend(title=\"Dataset\", bbox_to_anchor=(1, 1))\n",
    "ax.set_xlabel(\"$L^{2}$ Regularization Strength ($\\\\alpha$)\")\n",
    "ax.set_title(\"Grid Search $R^{2}$\")\n",
    "ax.semilogx()\n",
    "None"
   ]
  },
  {
   "cell_type": "markdown",
   "id": "af05d9b4-2a3d-4567-8e13-da5f705bdace",
   "metadata": {},
   "source": [
    "# Easy to Tie Yourself Up In Knots\n",
    "\n",
    "- We picked out features in `get_X_y()`\n",
    "- To add the scaler, we had to write a new `fit_and_evaluate_model()` function.\n",
    "- Have to remember to transform test data in the same order as training data.\n",
    "- Remember: _everything_ is the model.\n",
    "\n",
    "# Solution: Pipelines"
   ]
  },
  {
   "cell_type": "code",
   "execution_count": null,
   "id": "c1dcdd61-e0f0-4d1b-a07e-3c17d1ab9f0c",
   "metadata": {},
   "outputs": [],
   "source": [
    "from sklearn.model_selection import GridSearchCV\n",
    "from sklearn.pipeline import Pipeline"
   ]
  },
  {
   "cell_type": "code",
   "execution_count": null,
   "id": "d1bc2730-291a-446f-b293-50813a9bd8a4",
   "metadata": {},
   "outputs": [],
   "source": [
    "pipeline = Pipeline(\n",
    "    [(\"scaler\", StandardScaler()), (\"imputer\", SimpleImputer()), (\"estimator\", Ridge())]\n",
    ")\n",
    "pipeline"
   ]
  },
  {
   "cell_type": "code",
   "execution_count": null,
   "id": "31037d9d-ada7-462a-9432-19c0eae5f7a7",
   "metadata": {},
   "outputs": [],
   "source": [
    "param_grid = {\"estimator__alpha\": alpha_values}\n",
    "grid_search = GridSearchCV(\n",
    "    pipeline, param_grid, cv=5, scoring=\"r2\", return_train_score=True\n",
    ")"
   ]
  },
  {
   "cell_type": "code",
   "execution_count": null,
   "id": "b6207c21-9469-4877-9745-403fc10dedb2",
   "metadata": {},
   "outputs": [],
   "source": [
    "X_train, y_train = get_X_y(train)\n",
    "X_test, y_test = get_X_y(test)"
   ]
  },
  {
   "cell_type": "code",
   "execution_count": null,
   "id": "fd8419d7-fece-4f0f-a328-87fbc6a23193",
   "metadata": {},
   "outputs": [],
   "source": [
    "grid_search = grid_search.fit(X_train, y_train)"
   ]
  },
  {
   "cell_type": "code",
   "execution_count": null,
   "id": "5530a84f-03bb-408d-b5d6-c4e2209e250b",
   "metadata": {},
   "outputs": [],
   "source": [
    "results = pd.DataFrame(grid_search.cv_results_)\n",
    "results"
   ]
  },
  {
   "cell_type": "code",
   "execution_count": null,
   "id": "a1880575-0445-4c1f-9fe4-8d72c6280e9b",
   "metadata": {},
   "outputs": [],
   "source": [
    "ax = results.set_index(\"param_estimator__alpha\")[\n",
    "    [\"mean_train_score\", \"mean_test_score\"]\n",
    "].plot(marker=\"o\", linestyle=\"--\")\n",
    "ax.semilogx()\n",
    "None"
   ]
  },
  {
   "cell_type": "code",
   "execution_count": null,
   "id": "2896326b-c4e8-4f8c-88dd-e5d37bd5156d",
   "metadata": {},
   "outputs": [],
   "source": []
  }
 ],
 "metadata": {
  "kernelspec": {
   "display_name": "week3",
   "language": "python",
   "name": "week3"
  },
  "language_info": {
   "codemirror_mode": {
    "name": "ipython",
    "version": 3
   },
   "file_extension": ".py",
   "mimetype": "text/x-python",
   "name": "python",
   "nbconvert_exporter": "python",
   "pygments_lexer": "ipython3",
   "version": "3.8.12"
  }
 },
 "nbformat": 4,
 "nbformat_minor": 5
}
