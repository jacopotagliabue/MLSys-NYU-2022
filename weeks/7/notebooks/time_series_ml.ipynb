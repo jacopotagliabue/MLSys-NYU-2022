{
 "cells": [
  {
   "cell_type": "code",
   "execution_count": null,
   "id": "eb07d2d4",
   "metadata": {},
   "outputs": [],
   "source": [
    "import matplotlib.pyplot as plt\n",
    "import numpy as np\n",
    "import pandas as pd"
   ]
  },
  {
   "cell_type": "code",
   "execution_count": null,
   "id": "058175e6",
   "metadata": {},
   "outputs": [],
   "source": [
    "%config InlineBackend.figure_format = 'retina'"
   ]
  },
  {
   "cell_type": "code",
   "execution_count": null,
   "id": "df17fef3",
   "metadata": {},
   "outputs": [],
   "source": [
    "plt.rcParams[\"axes.spines.right\"] = False\n",
    "plt.rcParams[\"axes.spines.top\"] = False\n",
    "plt.rcParams[\"axes.labelsize\"] = 16\n",
    "plt.rcParams[\"xtick.labelsize\"] = 12\n",
    "plt.rcParams[\"ytick.labelsize\"] = 12\n",
    "plt.rcParams[\"figure.titlesize\"] = 18\n",
    "plt.rcParams[\"axes.titlesize\"] = 18"
   ]
  },
  {
   "cell_type": "code",
   "execution_count": null,
   "id": "0e453aed",
   "metadata": {},
   "outputs": [],
   "source": [
    "RANDOM_SEED = 666\n",
    "np.random.seed(RANDOM_SEED)"
   ]
  },
  {
   "cell_type": "markdown",
   "id": "ec4680de",
   "metadata": {},
   "source": [
    "# Data Investigation"
   ]
  },
  {
   "cell_type": "code",
   "execution_count": null,
   "id": "a0d0fa52",
   "metadata": {},
   "outputs": [],
   "source": [
    "bikes = pd.read_csv(\"../data/jay_st_bikes.csv\")\n",
    "bikes.head()"
   ]
  },
  {
   "cell_type": "code",
   "execution_count": null,
   "id": "56e0e3b6",
   "metadata": {},
   "outputs": [],
   "source": [
    "bikes.info()"
   ]
  },
  {
   "cell_type": "markdown",
   "id": "c5b894c0",
   "metadata": {},
   "source": [
    "`last_reported` corresponds to the last time the station reported its info to the Citi Bike API. We see here that it's an integer. It is in \"unix time\" corresponding to the number of seconds since January 1st, 1970 at 00:00:00."
   ]
  },
  {
   "cell_type": "code",
   "execution_count": null,
   "id": "feba7cb7",
   "metadata": {},
   "outputs": [],
   "source": [
    "pd.to_datetime(bikes[\"last_reported\"], unit=\"s\")"
   ]
  },
  {
   "cell_type": "markdown",
   "id": "1c08992e",
   "metadata": {},
   "source": [
    "Actually, this is in UTC time, and we should make sure Pandas knows this."
   ]
  },
  {
   "cell_type": "code",
   "execution_count": null,
   "id": "1bb607cb",
   "metadata": {},
   "outputs": [],
   "source": [
    "pd.to_datetime(bikes[\"last_reported\"], unit=\"s\", origin=\"unix\", utc=True)"
   ]
  },
  {
   "cell_type": "markdown",
   "id": "35e94894",
   "metadata": {},
   "source": [
    "And actually, let's convert it to EST."
   ]
  },
  {
   "cell_type": "code",
   "execution_count": null,
   "id": "9d9c551e",
   "metadata": {},
   "outputs": [],
   "source": [
    "bikes[\"last_reported\"] = pd.to_datetime(\n",
    "    bikes[\"last_reported\"], unit=\"s\", origin=\"unix\", utc=True\n",
    ").dt.tz_convert(\"US/Eastern\")\n",
    "bikes[\"last_reported\"]"
   ]
  },
  {
   "cell_type": "markdown",
   "id": "cdaf6d86",
   "metadata": {},
   "source": [
    "Ok better, but why does it start at 1970?\n",
    "\n",
    "These are null values. Let's throw them out. \n",
    "\n",
    "The nice thing about having our data in proper datetime format is that we can reference it with strings in pandas."
   ]
  },
  {
   "cell_type": "code",
   "execution_count": null,
   "id": "a6664e16",
   "metadata": {},
   "outputs": [],
   "source": [
    "bikes = bikes[bikes[\"last_reported\"] > \"1971\"]"
   ]
  },
  {
   "cell_type": "code",
   "execution_count": null,
   "id": "41424ce0",
   "metadata": {},
   "outputs": [],
   "source": [
    "bikes"
   ]
  },
  {
   "cell_type": "markdown",
   "id": "c71a1bed",
   "metadata": {},
   "source": [
    "Looks like the data goes from basically 2020-yesterday. Let's save some space by dropping the `name` field. We'll also set the timestamp field as the index."
   ]
  },
  {
   "cell_type": "code",
   "execution_count": null,
   "id": "c96820c4",
   "metadata": {},
   "outputs": [],
   "source": [
    "bikes = bikes.set_index(\"last_reported\")[\"num_bikes_available\"]"
   ]
  },
  {
   "cell_type": "code",
   "execution_count": null,
   "id": "46aa6b16",
   "metadata": {},
   "outputs": [],
   "source": [
    "bikes.head()"
   ]
  },
  {
   "cell_type": "markdown",
   "id": "4dda3139",
   "metadata": {},
   "source": [
    "We can now index by time."
   ]
  },
  {
   "cell_type": "code",
   "execution_count": null,
   "id": "1016c1be",
   "metadata": {},
   "outputs": [],
   "source": [
    "bikes.loc[\"2022-10-01\":\"2022-10-07\"].plot()\n",
    "None"
   ]
  },
  {
   "cell_type": "markdown",
   "id": "2fda4ccd",
   "metadata": {},
   "source": [
    "# Basic ML\n",
    "\n",
    "To peform ML, it helps to resample the data so that each point is evenly spaced in time."
   ]
  },
  {
   "cell_type": "code",
   "execution_count": null,
   "id": "1301e0f2",
   "metadata": {},
   "outputs": [],
   "source": [
    "# Resample so that the index corresponds to 5 minute increments.\n",
    "# We pick .last() so that we are not leaking future information into the\n",
    "# past.\n",
    "SAMPLE_MINUTES = 5\n",
    "bikes = bikes.resample(f\"{SAMPLE_MINUTES}T\").last()\n",
    "\n",
    "# Finally, we fill any missing data after the resampling using the most\n",
    "# recently known data.\n",
    "bikes = bikes.fillna(method=\"ffill\")"
   ]
  },
  {
   "cell_type": "code",
   "execution_count": null,
   "id": "d60b24ee",
   "metadata": {},
   "outputs": [],
   "source": [
    "bikes.head()"
   ]
  },
  {
   "cell_type": "markdown",
   "id": "efc21996",
   "metadata": {},
   "source": [
    "Now, pick out some training and test data and create `X` and `y` matrices. We'll use all of 2021 as our training data and all data (so far) in 2022 for our test data."
   ]
  },
  {
   "cell_type": "code",
   "execution_count": null,
   "id": "bfbba2cd",
   "metadata": {},
   "outputs": [],
   "source": [
    "train_start = bikes.index.get_loc(\"2021-01-01 00:00:00-04:00\")\n",
    "train_end = bikes.index.get_loc(\"2022-01-01 00:00:00-04:00\")\n",
    "\n",
    "test_start = bikes.index.get_loc(\"2022-01-01 00:00:00-04:00\")\n",
    "test_end = bikes.index.get_loc(\"2022-10-13 00:00:00-04:00\")"
   ]
  },
  {
   "cell_type": "code",
   "execution_count": null,
   "id": "9d4f3c84",
   "metadata": {},
   "outputs": [],
   "source": [
    "def create_lag_features(y, start_index, end_index, num_lags):\n",
    "    X = []\n",
    "    # At each point in y between start and end, collect the prior `num_lags`\n",
    "    # values of y to use as lag features.\n",
    "    for idx in range(start_index, end_index):\n",
    "        # We offset by 1 so that we are grabbing everything up until the\n",
    "        # current value of y.\n",
    "        X.append(y[(idx - 1) - num_lags : idx - 1])\n",
    "    return np.vstack(X)"
   ]
  },
  {
   "cell_type": "markdown",
   "id": "5926f52b",
   "metadata": {},
   "source": [
    "Split into training and test sets. We'll use one day's worth of data for the lag features."
   ]
  },
  {
   "cell_type": "code",
   "execution_count": null,
   "id": "3be4a743",
   "metadata": {},
   "outputs": [],
   "source": [
    "# One day's worth of lags.\n",
    "NUM_LAGS = int(60 / SAMPLE_MINUTES * 24)\n",
    "\n",
    "y = bikes.values\n",
    "\n",
    "y_train = y[train_start:train_end]\n",
    "y_test = y[test_start:test_end]\n",
    "\n",
    "X_train = create_lag_features(y, train_start, train_end, NUM_LAGS)\n",
    "X_test = create_lag_features(y, test_start, test_end, NUM_LAGS)"
   ]
  },
  {
   "cell_type": "code",
   "execution_count": null,
   "id": "818421df",
   "metadata": {},
   "outputs": [],
   "source": [
    "X_train.shape"
   ]
  },
  {
   "cell_type": "code",
   "execution_count": null,
   "id": "dfc72bfc",
   "metadata": {},
   "outputs": [],
   "source": [
    "X_test.shape"
   ]
  },
  {
   "cell_type": "markdown",
   "id": "09a468aa",
   "metadata": {},
   "source": [
    "Now, let's train a simple linear regression model."
   ]
  },
  {
   "cell_type": "code",
   "execution_count": null,
   "id": "0260ae8e",
   "metadata": {},
   "outputs": [],
   "source": [
    "from sklearn.linear_model import LinearRegression"
   ]
  },
  {
   "cell_type": "code",
   "execution_count": null,
   "id": "b3ecba02",
   "metadata": {},
   "outputs": [],
   "source": [
    "model = LinearRegression(n_jobs=-1)\n",
    "model.fit(X_train, y_train)"
   ]
  },
  {
   "cell_type": "code",
   "execution_count": null,
   "id": "a2ab0509",
   "metadata": {},
   "outputs": [],
   "source": [
    "y_pred = model.predict(X_test)"
   ]
  },
  {
   "cell_type": "code",
   "execution_count": null,
   "id": "92a901d7",
   "metadata": {},
   "outputs": [],
   "source": [
    "fig, ax = plt.subplots()\n",
    "start = -3_000\n",
    "ax.plot(y_pred[start:], label=\"Predicted\")\n",
    "ax.plot(y_test[start - 1 : -1], label=\"Actual\")\n",
    "ax.legend()\n",
    "None"
   ]
  },
  {
   "cell_type": "code",
   "execution_count": null,
   "id": "ba69831e",
   "metadata": {},
   "outputs": [],
   "source": [
    "fig, ax = plt.subplots()\n",
    "start = -50\n",
    "ax.plot(y_pred[start:], label=\"Predicted\")\n",
    "ax.plot(y_test[start - 1 : -1], label=\"Actual\")\n",
    "ax.legend()\n",
    "None"
   ]
  },
  {
   "cell_type": "code",
   "execution_count": null,
   "id": "544b6e5d",
   "metadata": {},
   "outputs": [],
   "source": [
    "fig, ax = plt.subplots()\n",
    "ax.bar(list(range(1, len(model.coef_) + 1)[::-1]), model.coef_)\n",
    "ax.set_ylabel(\"Coefficient Value\")\n",
    "ax.set_xlabel(\"Lag Feature\")\n",
    "None"
   ]
  },
  {
   "cell_type": "markdown",
   "id": "2f6ce146",
   "metadata": {},
   "source": [
    "Either ironically or unsurprisingly, you can get pretty good performance!"
   ]
  },
  {
   "cell_type": "code",
   "execution_count": null,
   "id": "4bb46b43",
   "metadata": {},
   "outputs": [],
   "source": [
    "from sklearn.metrics import mean_absolute_error, r2_score"
   ]
  },
  {
   "cell_type": "code",
   "execution_count": null,
   "id": "ef2ae889",
   "metadata": {},
   "outputs": [],
   "source": [
    "print(f\"Mean Absolute Error = {mean_absolute_error(y_test, y_pred):.3}\")\n",
    "print(f\"R2 = {r2_score(y_test, y_pred):.3}\")"
   ]
  },
  {
   "cell_type": "markdown",
   "id": "ba15a4f2",
   "metadata": {},
   "source": [
    "Instead of predicting 5 minutes into the future, let's predict 60 minutes into the future"
   ]
  },
  {
   "cell_type": "code",
   "execution_count": null,
   "id": "53d85a94",
   "metadata": {},
   "outputs": [],
   "source": [
    "prediction_minutes = 60\n",
    "prediction_steps = int(prediction_minutes / SAMPLE_MINUTES - 1)\n",
    "\n",
    "y_train = y[train_start + prediction_steps : train_end + prediction_steps]\n",
    "y_test = y[test_start + prediction_steps : test_end + prediction_steps]\n",
    "\n",
    "X_train = create_lag_features(y, train_start, train_end, NUM_LAGS)\n",
    "X_test = create_lag_features(y, test_start, test_end, NUM_LAGS)"
   ]
  },
  {
   "cell_type": "code",
   "execution_count": null,
   "id": "be600836",
   "metadata": {},
   "outputs": [],
   "source": [
    "model = LinearRegression(n_jobs=-1)\n",
    "model.fit(X_train, y_train)"
   ]
  },
  {
   "cell_type": "code",
   "execution_count": null,
   "id": "f2796518",
   "metadata": {},
   "outputs": [],
   "source": [
    "y_pred = model.predict(X_test)"
   ]
  },
  {
   "cell_type": "markdown",
   "id": "b2748b36",
   "metadata": {},
   "source": [
    "While it may look good, it's mostly similar to before."
   ]
  },
  {
   "cell_type": "code",
   "execution_count": null,
   "id": "2abfb608",
   "metadata": {},
   "outputs": [],
   "source": [
    "fig, ax = plt.subplots()\n",
    "start = -3_000\n",
    "ax.plot(y_pred[start:], label=\"Predicted\")\n",
    "ax.plot(y_test[start - 1 : -1], label=\"Actual\")\n",
    "ax.legend()\n",
    "None"
   ]
  },
  {
   "cell_type": "code",
   "execution_count": null,
   "id": "f358daae",
   "metadata": {},
   "outputs": [],
   "source": [
    "fig, ax = plt.subplots()\n",
    "start = -50\n",
    "ax.plot(y_pred[start:], label=\"Predicted\")\n",
    "ax.plot(y_test[start - 1 : -1], label=\"Actual\")\n",
    "ax.legend()\n",
    "None"
   ]
  },
  {
   "cell_type": "code",
   "execution_count": null,
   "id": "c1a9dac6",
   "metadata": {},
   "outputs": [],
   "source": [
    "fig, ax = plt.subplots()\n",
    "ax.bar(list(range(1, len(model.coef_) + 1)[::-1]), model.coef_)\n",
    "ax.set_ylabel(\"Coefficient Value\")\n",
    "ax.set_xlabel(\"Lag Feature\")\n",
    "None"
   ]
  },
  {
   "cell_type": "code",
   "execution_count": null,
   "id": "8aea3d9d",
   "metadata": {},
   "outputs": [],
   "source": [
    "print(f\"Mean Absolute Error = {mean_absolute_error(y_test, y_pred):.3}\")\n",
    "print(f\"R2 = {r2_score(y_test, y_pred):.3}\")"
   ]
  },
  {
   "cell_type": "markdown",
   "id": "140a6e8a",
   "metadata": {},
   "source": [
    "Lastly, let's program up a quick forecast"
   ]
  },
  {
   "cell_type": "code",
   "execution_count": null,
   "id": "a8b88688",
   "metadata": {},
   "outputs": [],
   "source": [
    "forecast = []\n",
    "forecast_start = -2500\n",
    "forecast_steps = int(120 / SAMPLE_MINUTES)\n",
    "\n",
    "X_forecast = X_test[forecast_start, :].reshape(1, -1)\n",
    "\n",
    "for step in range(forecast_steps):\n",
    "    forecast.append(model.predict(X_forecast)[0])\n",
    "    X_forecast = np.roll(X_forecast, -1, axis=1)\n",
    "    X_forecast[:, -1] = forecast[-1]"
   ]
  },
  {
   "cell_type": "code",
   "execution_count": null,
   "id": "ec2cf3fa",
   "metadata": {},
   "outputs": [],
   "source": [
    "fig, ax = plt.subplots()\n",
    "start = -3_000\n",
    "ax.plot(y_pred[start:], label=\"Predicted\")\n",
    "ax.plot(y_test[start - 1 : -1], label=\"Actual\")\n",
    "ax.plot(\n",
    "    np.arange(forecast_start - start, forecast_start - start + forecast_steps),\n",
    "    forecast,\n",
    "    label=\"Forecast\",\n",
    ")\n",
    "ax.legend()\n",
    "None"
   ]
  },
  {
   "cell_type": "code",
   "execution_count": null,
   "id": "53b0509c",
   "metadata": {},
   "outputs": [],
   "source": []
  }
 ],
 "metadata": {
  "kernelspec": {
   "display_name": "week7",
   "language": "python",
   "name": "week7"
  },
  "language_info": {
   "codemirror_mode": {
    "name": "ipython",
    "version": 3
   },
   "file_extension": ".py",
   "mimetype": "text/x-python",
   "name": "python",
   "nbconvert_exporter": "python",
   "pygments_lexer": "ipython3",
   "version": "3.9.4"
  }
 },
 "nbformat": 4,
 "nbformat_minor": 5
}
